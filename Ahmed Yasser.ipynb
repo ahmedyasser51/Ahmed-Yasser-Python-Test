{
 "cells": [
  {
   "cell_type": "code",
   "execution_count": 2,
   "id": "2cd7bcd3",
   "metadata": {},
   "outputs": [],
   "source": [
    "list=[1,0.5,'apple',True]"
   ]
  },
  {
   "cell_type": "code",
   "execution_count": 3,
   "id": "08150a36",
   "metadata": {},
   "outputs": [
    {
     "data": {
      "text/plain": [
       "[1, 0.5, 'apple', True]"
      ]
     },
     "execution_count": 3,
     "metadata": {},
     "output_type": "execute_result"
    }
   ],
   "source": [
    "list"
   ]
  },
  {
   "cell_type": "code",
   "execution_count": 4,
   "id": "6d330edc",
   "metadata": {},
   "outputs": [],
   "source": [
    "tuple=(2,66,'chicken',False)"
   ]
  },
  {
   "cell_type": "code",
   "execution_count": 5,
   "id": "f4369464",
   "metadata": {},
   "outputs": [
    {
     "data": {
      "text/plain": [
       "(2, 66, 'chicken', False)"
      ]
     },
     "execution_count": 5,
     "metadata": {},
     "output_type": "execute_result"
    }
   ],
   "source": [
    "tuple"
   ]
  },
  {
   "cell_type": "code",
   "execution_count": 6,
   "id": "398b6b3a",
   "metadata": {},
   "outputs": [],
   "source": [
    "set={21,0.7,'book',True}"
   ]
  },
  {
   "cell_type": "code",
   "execution_count": 7,
   "id": "761d6554",
   "metadata": {},
   "outputs": [
    {
     "data": {
      "text/plain": [
       "{0.7, 21, True, 'book'}"
      ]
     },
     "execution_count": 7,
     "metadata": {},
     "output_type": "execute_result"
    }
   ],
   "source": [
    "set"
   ]
  },
  {
   "cell_type": "code",
   "execution_count": 8,
   "id": "c06da0f0",
   "metadata": {},
   "outputs": [],
   "source": [
    "dict={'int':36 ,'float':0.6,'str':'facebook','bool':True}"
   ]
  },
  {
   "cell_type": "code",
   "execution_count": 9,
   "id": "24d8ae87",
   "metadata": {},
   "outputs": [
    {
     "data": {
      "text/plain": [
       "{'int': 36, 'float': 0.6, 'str': 'facebook', 'bool': True}"
      ]
     },
     "execution_count": 9,
     "metadata": {},
     "output_type": "execute_result"
    }
   ],
   "source": [
    "dict"
   ]
  },
  {
   "cell_type": "code",
   "execution_count": null,
   "id": "f1d0fd34",
   "metadata": {},
   "outputs": [],
   "source": []
  }
 ],
 "metadata": {
  "kernelspec": {
   "display_name": "Python 3 (ipykernel)",
   "language": "python",
   "name": "python3"
  },
  "language_info": {
   "codemirror_mode": {
    "name": "ipython",
    "version": 3
   },
   "file_extension": ".py",
   "mimetype": "text/x-python",
   "name": "python",
   "nbconvert_exporter": "python",
   "pygments_lexer": "ipython3",
   "version": "3.11.4"
  }
 },
 "nbformat": 4,
 "nbformat_minor": 5
}
